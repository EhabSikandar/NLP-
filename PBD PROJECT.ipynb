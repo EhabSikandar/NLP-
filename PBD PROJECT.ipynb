{
 "cells": [
  {
   "cell_type": "code",
   "execution_count": null,
   "id": "88a421fc",
   "metadata": {},
   "outputs": [],
   "source": [
    "import os \n",
    "folder_path=r\"D:\\4TH SEMESTER\\PBD\\WIKIPEDIA\\FILE\"\n",
    "file_path=[os.path.join(folder_path,name) for name in os.listdir(folder_path)]\n",
    "file_arr=[]\n",
    "for path in file_path:\n",
    "    with open(path,'r',encoding=\"ISO-8859-1\" )as f:\n",
    "        file=f.readlines()\n",
    "        file_arr.append(file)\n",
    "\n",
    "lst2ndstr=' '.join(map(str,file_arr))\n",
    "\n",
    "import nltk\n",
    "from nltk.corpus import stopwords\n",
    "from nltk.tokenize import word_tokenize \n",
    "\n",
    "text= word_tokenize(lst2str)\n",
    "\n",
    "data=[word for word in text if not word in stopwords.words()]\n",
    "\n",
    "\n",
    "from nltk.stem import WordNetLemmatizer\n",
    "Lemmatizer=WordNetLemmatizer()\n",
    "lem=[]\n",
    "for x in data:\n",
    "    lem.append(Lemmatizer.lemmatize(x))\n",
    "\n",
    "import re\n",
    "data_update=[re.sub('[^a-zA-Z0-9]+','',_) for _ in lem]\n",
    "\n",
    "import sklearn\n",
    "from sklearn.feature_extraction.text import TfidfVectorizer \n",
    "from sklearn.cluster import KMeans\n",
    "from warnings import simplefilter \n",
    "\n",
    "simplefilter(action='ignore' , category=FutureWarning)\n",
    "vectorizer= TfidfVectorizer(stop_words='english')\n",
    "x=vectorizer.fit_transform(data_update)\n",
    "\n",
    "k=6\n",
    "model=KMeans(n_clusters=k,init='k-means++' ,max_iter=100 ,n_init=1)\n",
    "model.fit(x)\n",
    "\n",
    "print(\"Top per cluster \")\n",
    "order_centroids=model.cluster_centers_.argsort()[:, ::-1] \n",
    "terms =vectorizer.get_feature_names()\n",
    "for i in range(k):\n",
    "    print(\"Cluster %d :\" % i), \n",
    "    for ind in order_centroids[i, :10]:\n",
    "        print('%s' % terms[ind])\n",
    "        \n",
    "        \n",
    "Y = vectorizer.transform([\"genus\"]) \n",
    "guessing = model.predict(Y) \n",
    "print(guessing)\n"
   ]
  }
 ],
 "metadata": {
  "kernelspec": {
   "display_name": "Python 3 (ipykernel)",
   "language": "python",
   "name": "python3"
  },
  "language_info": {
   "codemirror_mode": {
    "name": "ipython",
    "version": 3
   },
   "file_extension": ".py",
   "mimetype": "text/x-python",
   "name": "python",
   "nbconvert_exporter": "python",
   "pygments_lexer": "ipython3",
   "version": "3.9.7"
  }
 },
 "nbformat": 4,
 "nbformat_minor": 5
}
